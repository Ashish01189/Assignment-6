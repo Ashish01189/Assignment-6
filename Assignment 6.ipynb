{
  "metadata": {
    "kernelspec": {
      "name": "python",
      "display_name": "Python (Pyodide)",
      "language": "python"
    },
    "language_info": {
      "codemirror_mode": {
        "name": "python",
        "version": 3
      },
      "file_extension": ".py",
      "mimetype": "text/x-python",
      "name": "python",
      "nbconvert_exporter": "python",
      "pygments_lexer": "ipython3",
      "version": "3.8"
    }
  },
  "nbformat_minor": 5,
  "nbformat": 4,
  "cells": [
    {
      "id": "0d7d28ab-bf2e-40cb-baad-f861ce17b972",
      "cell_type": "markdown",
      "source": "# Files, exceptional handling, logging and memory management Questions",
      "metadata": {}
    },
    {
      "id": "66898964-9250-44b6-9221-49ce4439f088",
      "cell_type": "code",
      "source": "# 1.  What is the difference between interpreted and complied languages?\n    # The main difference between interpreted and compiled languages lies in how the code is executed:\n\n# a. Compiled Languages\n    # Code is translated into machine code (binary) by a compiler before execution.\n    # The compiler generates an executable file that can be run directly by the operating system.\n    # Examples: C, C++, Rust, Go\n\n# Process:\n    # Write code → Compile → Generate executable → Run\n\n# Advantages:\n    # 1. Faster execution (since it's already in machine code).\n    # 2. More efficient use of system resources.\n\n# Disadvantages:\n    # 1. Slower development cycle (because code must be compiled before testing).\n    # 2. Platform dependency (compiled code might need different versions for different systems).\n\n# b. Interpreted Languages\n    # Code is executed line-by-line by an interpreter at runtime.\n    # No separate executable is created.\n    # Examples: Python, JavaScript, Ruby\n\n# Process:\n    # Write code → Run (interpreter translates and executes directly)\n\n# Advantages:\n    # 1. Easier to test and debug (since no compilation step).\n    # 2. More flexible and portable across platforms.\n\n# Disadvantages:\n    # 1. Slower execution (since code is translated at runtime).\n    # 2. May require the interpreter to be installed on the target machine.",
      "metadata": {
        "trusted": true
      },
      "outputs": [],
      "execution_count": null
    },
    {
      "id": "01017bdd-45b5-4abc-91dd-e7cc44c87031",
      "cell_type": "code",
      "source": "# 2. What is exception handling in Python?\n    # Exception handling in Python is a mechanism that allows you to handle runtime errors (exceptions) gracefully, without crashing the program\n    # An exception is an error that occurs during the execution of a program, disrupting the normal flow of the program.\n\n# Basic Exception Handling Using try-except:\ntry:\n    x = 10 / 0\nexcept ZeroDivisionError:\n    print(\"Cannot divide by zero!\")\n\n# Using Multiple except Blocks:\ntry:\n    x = int(\"abc\")\nexcept ValueError:\n    print(\"Invalid value!\")\nexcept TypeError:\n    print(\"Type error occurred!\")\n\n# Using else Block:\ntry:\n    x = 10 / 2\nexcept ZeroDivisionError:\n    print(\"Cannot divide by zero!\")\nelse:\n    print(\"Division successful!\")\n\n# Using finally Block:\ntry:\n    file = open(\"sample.txt\", \"r\")\nexcept FileNotFoundError:\n    print(\"File not found!\")\nfinally:\n    print(\"Cleaning up...\")\n\n# Raising Exceptions (raise)\nx = -1\nif x < 0:\n    raise ValueError(\"Negative value is not allowed\")\n\n#  Summary:\n    # Use try to wrap code that may raise an exception.\n    # Use except to handle specific or general exceptions.\n    # Use else to define code that runs if no exception occurs.\n    # Use finally to define cleanup code that runs regardless of an exception.\n    # Use raise to generate custom exceptions.",
      "metadata": {
        "trusted": true
      },
      "outputs": [],
      "execution_count": null
    },
    {
      "id": "485d5b7b-2930-4c57-9bf4-dd3ce0a2c09a",
      "cell_type": "code",
      "source": "# 3. What is the purpose of the finally block in exection handling?\n    # The finally block in Python exception handling is used to define code that executes regardless of whether an exception occurs or not. Its primary purpose is to ensure that certain cleanup actions (like closing files, releasing resources, etc.) are always executed, even if an exception is raised.\n\n# Syntax:\ntry:\nexcept ExceptionType:\nfinally:\n\n# Example 1: finally with Exception\ntry:\n    x = 5 / 0\nexcept ZeroDivisionError:\n    print(\"Cannot divide by zero!\")\nfinally:\n    print(\"This will always execute.\")\n\n# Example 2: finally Without Exception\ntry:\n    x = 5 / 1\nexcept ZeroDivisionError:\n    print(\"Cannot divide by zero!\")\nfinally:\n    print(\"This will always execute.\")\n\n# Example 3: Cleaning Up Resources with finally\ntry:\n    file = open(\"example.txt\", \"w\")\n    file.write(\"Hello, World!\")\n    raise ValueError(\"An error occurred!\")\nexcept ValueError as e:\n    print(e)\nfinally:\n    file.close()\n    print(\"File closed.\")\n\n# Purpose of finally:\n    # Ensures that cleanup code (like closing files, releasing locks, freeing memory) is executed.\n    # Runs regardless of whether an exception occurs or not.\n    # Helps prevent resource leaks and ensures proper state management.",
      "metadata": {
        "trusted": true
      },
      "outputs": [],
      "execution_count": null
    },
    {
      "id": "a158e5e9-bdcc-4eb1-aba8-124752ca7463",
      "cell_type": "code",
      "source": "# 4. What is logging in Python?\n    # Logging in Python is a built-in module that allows you to record messages (like status updates, errors, warnings, and debugging information) during the execution of a program. It helps you monitor and troubleshoot the program’s behavior without using print() statements.\n\n# Why Use Logging?\n    # Helps track the flow and state of a program.\n    # Allows saving logs to a file for future reference.\n    # Provides different levels of severity for filtering and prioritizing logs.\n    # Makes debugging and monitoring easier in production environments.\n\n# Basic Logging Example\nimport logging\n\nlogging.basicConfig(level=logging.INFO)\n\nlogging.info(\"This is an info message\")\n\n# Example with Multiple Logging Levels\nimport logging\n\nlogging.basicConfig(level=logging.DEBUG)\n\nlogging.debug(\"This is a debug message\")\nlogging.info(\"This is an info message\")\nlogging.warning(\"This is a warning message\")\nlogging.error(\"This is an error message\")\nlogging.critical(\"This is a critical message\")\n\n# Logging to a File\nimport logging\n\nlogging.basicConfig(filename='app.log', level=logging.INFO)\n\nlogging.info(\"This message will be written to a file\")\n\n# Formatting Log Messages\nimport logging\n\nlogging.basicConfig(\n    filename='app.log',\n    level=logging.DEBUG,\n    format='%(asctime)s - %(levelname)s - %(message)s'\n)\n\nlogging.debug(\"Debugging information\")\n\n# Using a Logger Object\nimport logging\n\nlogger = logging.getLogger('my_logger')\nlogger.setLevel(logging.DEBUG)\n\nfile_handler = logging.FileHandler('custom.log')\nfile_handler.setLevel(logging.DEBUG)\n\nformatter = logging.Formatter('%(name)s - %(levelname)s - %(message)s')\nfile_handler.setFormatter(formatter)\n\nlogger.addHandler(file_handler)\n\nlogger.debug(\"This is a debug message from my_logger\")",
      "metadata": {
        "trusted": true
      },
      "outputs": [],
      "execution_count": null
    },
    {
      "id": "1a3d7e44-88b3-4e26-80d5-8b59378de2f5",
      "cell_type": "code",
      "source": "# 5. What is the significance of the __del__ method in Python?\n    #  The __del__ method in Python is a destructor that is called when an object is about to be destroyed (i.e., when it is no longer referenced). It allows you to define cleanup actions like releasing resources or closing file handles before the object is garbage collected.\n\n# Syntax:\nclass MyClass:\n    def __del__(self):\n        print(\"Destructor called, object deleted.\")\n\n# How It Works:\n    # The __del__ method is automatically called:\n        # When the reference count of an object reaches zero.\n        # When the program exits (if the object is still referenced).\n\n    # The method is useful for: Closing files\n    # Releasing memory or network connections\n    # Cleaning up temporary resources\n\n# Example 1: Basic __del__ Usage\nclass MyClass:\n    def __init__(self, value):\n        self.value = value\n        print(f\"Object with value {self.value} created\")\n\n    def __del__(self):\n        print(f\"Object with value {self.value} deleted\")\n\nobj = MyClass(10)\n\ndel obj\n\n# Example 2: Automatic Cleanup When Reference Count Reaches Zero\nclass MyClass:\n    def __init__(self, value):\n        self.value = value\n        print(f\"Object with value {self.value} created\")\n\n    def __del__(self):\n        print(f\"Object with value {self.value} deleted\")\n\nobj = MyClass(20)\n\nobj = None\n\n# Example 3: Cleaning Up Resources (File Handling)\nclass FileHandler:\n    def __init__(self, filename):\n        self.file = open(filename, 'w')\n        print(\"File opened\")\n\n    def __del__(self):\n        self.file.close()\n        print(\"File closed\")\n\nhandler = FileHandler(\"test.txt\")\n\ndel handler\n\n# Limitations of __del__:\n    # 1. Circular References:\n        # If objects reference each other, __del__ may not be called due to circular references.\n\n    # 2. Garbage Collection Timing:\n        # The timing of when __del__ is called is controlled by Python’s garbage collector — it’s not always immediate.\n\n    # Exceptions in __del__:\n        #If an exception occurs in __del__, Python ignores it and outputs a warning.\n\n# Best Practices:\n    # Use __del__ only when you need to clean up resources (e.g., files, sockets).\n    # For complex resource management, use context managers (with statement) instead of relying on __del__.\n    # Avoid relying on __del__ for essential program logic since it may not always be called immediately.",
      "metadata": {
        "trusted": true
      },
      "outputs": [],
      "execution_count": null
    },
    {
      "id": "d0ace3b1-ed13-43bf-8061-1fd6323ea8e7",
      "cell_type": "code",
      "source": "# 6. What is the difference between import and from...import in Python?\n    # In Python, import and from...import are both used to include external modules or specific functions and objects from modules into your code, but they work differently:\n\n# 1. import Statement\n    # Imports the entire module.\n    # To use the module’s functions or objects, you need to prefix them with the module name.\n\n# Syntax:\nimport module_name\n\n# Example:\nimport math\n\nresult = math.sqrt(16)\nprint(result)\n\n# Advantages:\n    # Prevents name conflicts by keeping functions and objects within the module’s namespace.\n    # Makes it clear where the function comes from.\n\n# 2. from...import Statement\n    # Imports specific functions, classes, or objects from a module.\n    # You can use the imported items directly without the module name prefix.\n\n# Syntax:\nfrom module_name import function_name\n\n# Example:\nfrom math import sqrt\n\nresult = sqrt(16)\nprint(result)\n\n# Advantages:\n    # Cleaner and shorter code since you don't need to use the module name prefix.\n    # Helps avoid namespace clutter by importing only what's needed.\n\n# 3. from...import * Statement\n    # Imports all functions and objects from a module.\n    # Can lead to namespace conflicts if different modules have functions with the same name.\n\n# Syntax:\nfrom module_name import *\n\n# Example:\nfrom math import *\n\nresult = sqrt(16)\nprint(result)\n\n#  Disadvantages:\n    # Makes debugging harder if names conflict with other modules or built-in functions.\n    # Reduces code clarity because the source of the function isn’t obvious.\n\n# 4. import...as Statement (Aliasing)\n    # You can use as to assign an alias to the imported module or function.\n    # Useful for shortening long module names or avoiding conflicts.\n\n# Syntax:\nimport module_name as alias\n\n# Example:\nimport numpy as np\n\narr = np.array([1, 2, 3])\nprint(arr)",
      "metadata": {
        "trusted": true
      },
      "outputs": [],
      "execution_count": null
    },
    {
      "id": "a19c2d92-2d93-4b7a-9d5d-e735ca9a0bd6",
      "cell_type": "code",
      "source": "# 7. How can you handle multiple exceptions in Python?\n    # In Python, you can handle multiple exceptions using the try-except block in the following ways:\n\n# 1. Handling Multiple Exceptions with Separate except Blocks\n    # You can define multiple except blocks to handle different types of exceptions separately.\n\n# Example:\ntry:\n    x = int(\"abc\")\n    y = 10 / 0 \nexcept ValueError:\n    print(\"Invalid value!\")\nexcept ZeroDivisionError:\n    print(\"Cannot divide by zero!\")\n\n# 2. Handling Multiple Exceptions in a Single except Block\n    # You can handle multiple exception types in a single except block by grouping them in a tuple.\n\n# Example:\ntry:\n    x = 10 / 0\nexcept (ValueError, ZeroDivisionError) as e:\n    print(f\"An error occurred: {e}\")\n\n# 3. Catching All Exceptions with Exception\n    # You can use the base Exception class to catch all exceptions (including custom ones).\n\n# Example:\ntry:\n    x = int(\"abc\")\nexcept Exception as e:\n    print(f\"An error occurred: {e}\")\n\n# 4. Using else with Multiple Exceptions\n    # The else block runs only if no exception occurs.\n\n# Example:\ntry:\n    x = int(\"5\")\nexcept (ValueError, TypeError) as e:\n    print(f\"An error occurred: {e}\")\nelse:\n    print(\"Conversion successful:\", x)\n\n# 5. Using finally with Multiple Exceptions\n    # The finally block always executes (whether an exception occurs or not).\n\n# Example:\ntry:\n    x = int(\"abc\")\nexcept (ValueError, TypeError) as e:\n    print(f\"An error occurred: {e}\")\nfinally:\n    print(\"Cleanup code executed.\")\n",
      "metadata": {
        "trusted": true
      },
      "outputs": [],
      "execution_count": null
    },
    {
      "id": "188ef86f-e518-45d3-8cce-73bb83c3d711",
      "cell_type": "code",
      "source": "# 8. What is the purpose of the with statement when handling files in Python?\n    # The with statement in Python is used to handle files (and other resources) more efficiently by ensuring that resources are properly managed and automatically closed after use — even if an exception occurs.\n\n# Purpose of the with Statement:\n    # Automatically closes the file when the code block inside with is done.\n    # Reduces the risk of resource leaks (like open file handles).\n    # Simplifies exception handling and cleanup code.\n\n# Syntax:\nwith open('file_name', 'mode') as file:\n\n# Example Without with Statement:\nfile = open('example.txt', 'w')\ntry:\n    file.write('Hello, World!')\nfinally:\n    file.close()\n\n# Problems:\n    # If an exception occurs, file.close() may never be called.\n    # Manual cleanup increases the chances of resource leaks.\n\n# Example With with Statement:\nwith open('example.txt', 'w') as file:\n    file.write('Hello, World!')\n\n# Example: Reading a File Using with\nwith open('example.txt', 'r') as file:\n    content = file.read()\n    print(content)\n\n# Example: Writing to a File Using with\nwith open('example.txt', 'w') as file:\n    file.write('Python is awesome!')\n\n# Example: Appending to a File Using with\nwith open('example.txt', 'a') as file:\n    file.write('\\nLet\\'s learn Python!')\n\n# Advantages of with Statement:\n    # Ensures the file is closed even if an exception occurs.\n    # Cleaner and more readable code.\n    # No need to manually call file.close().\n    # Prevents memory leaks and file lock issues.",
      "metadata": {
        "trusted": true
      },
      "outputs": [],
      "execution_count": null
    },
    {
      "id": "78f2e1b3-a19d-4af7-a5a6-533c1a6dd5cc",
      "cell_type": "code",
      "source": "# 9. What is the difference between multihreading and multiprocessing?\n    # The difference between multithreading and multiprocessing in Python lies in how they handle parallel execution:\n\n# 1. Multithreading\n    # Uses multiple threads within the same process.\n    # Threads share the same memory space and resources.\n    # Ideal for I/O-bound tasks (like file operations, network requests).\n    # Limited by the Global Interpreter Lock (GIL) — only one thread executes Python bytecode at a time.\n\n# Example of Multithreading:\nimport threading\n\ndef print_numbers():\n    for i in range(5):\n        print(f\"Thread: {i}\")\n\nt1 = threading.Thread(target=print_numbers)\nt2 = threading.Thread(target=print_numbers)\n\nt1.start()\nt2.start()\n\nt1.join()\nt2.join()\n\n#  Advantages:\n    # Suitable for I/O-bound tasks (like downloading files, making API calls).\n    # Lighter than processes (less memory overhead).\n\n# Disadvantages:\n    # Affected by the GIL, which prevents true parallel execution of threads.\n    # Threads can interfere with each other since they share memory.\n\n# 2. Multiprocessing\n    # Uses multiple processes (each with its own Python interpreter).\n    # Each process has its own memory space and resources.\n    # Ideal for CPU-bound tasks (like mathematical computations).\n    # Not affected by the GIL — allows true parallel execution.\n\n# Example of Multiprocessing:\nimport multiprocessing\n\ndef print_numbers():\n    for i in range(5):\n        print(f\"Process: {i}\")\n\np1 = multiprocessing.Process(target=print_numbers)\np2 = multiprocessing.Process(target=print_numbers)\n\np1.start()\np2.start()\n\np1.join()\np2.join()\n\n# Advantages:\n    # True parallel execution — better for CPU-bound tasks.\n    # Processes are isolated from each other, avoiding memory conflicts.\n\n# Disadvantages:\n    # Heavier than threads (more memory usage).\n    # Overhead due to inter-process communication (IPC).\n    # Process creation is slower than thread creation.\n\n# When to Use:\n    # Use multithreading for I/O-bound tasks like reading/writing files, network requests, or database queries.\n    # Use multiprocessing for CPU-bound tasks like data processing, mathematical computations, and machine learning.",
      "metadata": {
        "trusted": true
      },
      "outputs": [],
      "execution_count": null
    },
    {
      "id": "8ed0cca6-9731-4eae-a929-d3138f559bf1",
      "cell_type": "code",
      "source": "# 10.What are the advantages of using logging in a Pyton?\n    # The advantages of using logging in Python include:\n\n# 1. Debugging and Troubleshooting\n    # Logging helps capture errors, warnings, and debugging information, making it easier to identify and fix issues.\n\n# 2. Centralized Control\n    #You can configure logging settings (like log level, format, and destination) in one place, ensuring consistent behavior across the application.\n\n# 3. Flexible Output Handling\n    # Logs can be directed to:\n        # Console\n        # Files\n        # External services (e.g., databases, monitoring tools)\n\n# 4. Granular Control with Log Levels\n    # Python supports different log levels:\n        # DEBUG – Detailed information for debugging\n        # INFO – Confirmation that things are working as expected\n        # WARNING – Indication of potential issues\n        # ERROR – More serious problems\n        # CRITICAL – Serious errors causing program failure\n\n# 5. Performance Monitoring\n    # Logging can help monitor application performance by capturing execution times and bottlenecks.\n    \n# 6. Persistence\n    # Logs can be stored for future analysis, audits, and compliance.\n\n# 7. Thread and Process Safety\n    # The logging module supports multi-threading and multiprocessing, allowing logs from different threads or processes to be managed properly.\n\n# 8. Conditional Logging\n    # You can enable or disable specific log levels without modifying code by configuring the logging settings.\n\n# 9. Easy Configuration\n    # The logging module allows easy configuration using basicConfig() or a config file.\n\n# Example:\nimport logging\n\nlogging.basicConfig(level=logging.DEBUG,\n                    format='%(asctime)s - %(levelname)s - %(message)s')\n\nlogging.debug('This is a debug message')\nlogging.info('This is an info message')\nlogging.warning('This is a warning message')\nlogging.error('This is an error message')\nlogging.critical('This is a critical message')",
      "metadata": {
        "trusted": true
      },
      "outputs": [],
      "execution_count": null
    },
    {
      "id": "9ae600aa-0b74-42c8-8b1d-7b62e1f8bd1a",
      "cell_type": "code",
      "source": "# 11. What is memory management in Python?\n    # Memory management in Python refers to the process of handling the allocation, use, and release of memory within a Python program. Python has a built-in memory manager that handles this automatically, but understanding how it works can help optimize performance and avoid issues like memory leaks.\n\n# Key Components of Memory Management in Python\n    # 1. Python Memory Manager\n        # The Python memory manager handles the allocation and deallocation of memory.\n        # It internally manages different types of memory:\n            # a. Heap memory – Used for storing objects and data structures.\n            # b. Stack memory – Used for function calls and local variables.\n\n    # 2. Reference Counting\n        # Python uses a reference counting mechanism to keep track of how many references exist to an object.\n        # When the reference count drops to zero (i.e., no variable points to the object), the object is automatically deleted.\n\n    # 3. Garbage Collection\n        # Python’s garbage collector handles cyclic references (e.g., objects referring to each other).\n        # The gc module automatically detects and frees memory occupied by circular references.\n# Example\nimport gc\ngc.collect()\n\n    # 4. Dynamic Typing and Memory Allocation\n        # Python objects are dynamically typed, which means memory is allocated based on the object type at runtime.\n        # Large objects (like lists or dictionaries) are allocated on the heap\n\n    # 5. Memory Pools (Object-Specific Allocators)\n        # Python internally uses a system of memory pools:\n            # a. Small objects (< 512 bytes) are stored in pools for fast allocation and reuse.\n            # b. Large objects are allocated directly from the system memory.\n\n    # 6. __del__() Method (Finalizer)\n        # The __del__() method is called when an object is about to be destroyed.\n        # You can define cleanup operations here.\n# Example\nclass MyClass:\n    def __del__(self):\n        print(\"Object deleted\")\n\nobj = MyClass()\ndel obj\n\n# Python Tools for Memory Monitoring\n    # gc – for controlling garbage collection\n    # sys.getsizeof() – to check the size of an object\n    # tracemalloc – for tracking memory allocations\n    # memory_profiler – for measuring memory usage over time",
      "metadata": {
        "trusted": true
      },
      "outputs": [],
      "execution_count": null
    },
    {
      "id": "08f1f3e1-8c2f-4ce9-9870-b9f189a736af",
      "cell_type": "code",
      "source": "# 12. What are the basic steps involved in exception handling in Python?\n    # The basic steps involved in exception handling in Python are:\n\n# 1. Try Block:\n        # Write the code that may raise an exception inside a try block.\n        # Python will attempt to execute the code in the try block.\n\n# 2. Except Block:\n        # If an exception occurs in the try block, Python will jump to the except block.\n        # You can handle specific exceptions or use a generic except to catch any exception.\n\n# 3. Else Block (Optional):\n        # If no exception occurs in the try block, the else block is executed.\n        # This is useful for code that should only run when no exception is raised.\n\n# 4. Finally Block (Optional):\n        # The finally block is executed whether an exception occurs or not.\n        # It is used to perform cleanup actions like closing files or releasing resources.\n\n# Example:\ntry:\n    x = int(input(\"Enter a number: \"))\n    result = 10 / x\nexcept ValueError:\n    print(\"Invalid input. Please enter a valid number.\")\nexcept ZeroDivisionError:\n    print(\"Cannot divide by zero.\")\nelse:\n    print(\"Result:\", result)\nfinally:\n    print(\"Execution completed.\")",
      "metadata": {
        "trusted": true
      },
      "outputs": [],
      "execution_count": null
    },
    {
      "id": "1ad06be2-53bd-493c-8791-97feb6ad57ee",
      "cell_type": "code",
      "source": "# 13. Why is memory management important in Python?\n    # Memory management is important in Python because it ensures efficient use of memory and helps prevent issues like memory leaks and excessive memory consumption. Proper memory management improves the performance, stability, and scalability of Python programs.\n\n# Why Memory Management Matters:\n\n    # 1. Efficient Resource Utilization:\n            # Python manages memory automatically, but poor handling of objects or references can lead to wasted memory.\n            # Efficient memory use allows the program to run faster and handle larger datasets.\n\n    # 2. Prevention of Memory Leaks:\n            # If objects are not released from memory properly, they may accumulate over time, causing memory leaks.\n            # Python's garbage collector helps clean up unreferenced objects to avoid memory leaks.\n\n    # 3. Avoiding Fragmentation:\n            # Continuous creation and deletion of objects can lead to memory fragmentation.\n            # Efficient memory allocation and deallocation help avoid fragmentation.\n\n    # 4. Support for Large Data Handling:\n            # When dealing with large datasets (e.g., machine learning models or big data), proper memory management prevents crashes and out-of-memory errors.\n\n    # 5. Multitasking and Concurrency:\n            # Proper memory management ensures that multiple threads or processes can execute efficiently without memory conflicts.\n\n# How Python Manages Memory:\n\n    #Reference Counting:\n        # Python uses a reference count mechanism to keep track of the number of references to an object.\n        # When the reference count drops to zero, the object is automatically destroyed.\n\n    # Garbage Collection:\n        # Python's garbage collector removes objects that are no longer referenced to free up memory.\n        # It handles circular references where objects reference each other.\n\n    # Memory Pools:\n        # Python uses a private heap to manage memory internally.\n        # Objects are allocated from memory pools to reduce the overhead of frequent memory allocation.\n\n# Example\nx = [1, 2, 3]\ny = x\ndel x\ndel y",
      "metadata": {
        "trusted": true
      },
      "outputs": [],
      "execution_count": null
    },
    {
      "id": "a1f89b69-89b0-4eda-924d-33439a60bd46",
      "cell_type": "code",
      "source": "# 14. What is the role of try and  except in exception handling?\n    # The try and except blocks are fundamental in exception handling in Python. They are used to manage errors that may occur during code execution, ensuring the program can gracefully recover instead of crashing.\n\n# Role of try and except:\n    # try Block:\n        #The try block contains code that might raise an exception.\n        # Python attempts to execute the code inside the try block.\n        # If no exception occurs, the except block is skipped.\n\n    # except Block:\n        # The except block handles exceptions raised in the try block.\n        # It prevents the program from crashing by providing an alternative flow of execution.\n        # You can specify the type of exception to catch specific errors.\n\n# Basic Syntax\ntry:\nexcept <ExceptionType>:\n\n# Example 1: Handling a Specific Exception\ntry:\n    number = int(input(\"Enter a number: \"))\n    result = 10 / number\n    print(\"Result:\", result)\nexcept ZeroDivisionError:\n    print(\"Error: Cannot divide by zero.\")\nexcept ValueError:\n    print(\"Error: Invalid input. Please enter a valid number.\")\n\n# Example 2: Using a Generic except Block\ntry:\n    file = open(\"non_existent_file.txt\", \"r\")\n    content = file.read()\nexcept Exception as e:\n    print(f\"An error occurred: {e}\")\n\n\n# Key Points:\n    # The try block ensures that risky code is tested for errors.\n    # The except block prevents the program from terminating unexpectedly.\n    # Using specific exceptions (like ValueError, ZeroDivisionError, etc.) is recommended for better error handling.\n    # A generic except is helpful for catching unexpected exceptions but should be used cautiously to avoid masking other errors.",
      "metadata": {
        "trusted": true
      },
      "outputs": [],
      "execution_count": null
    },
    {
      "id": "e6e5bbc2-b251-405d-a330-787b4dfd9f61",
      "cell_type": "code",
      "source": "# 15. How does Pyton's garbage collection system works?\n    # Python's garbage collection system automatically manages memory by reclaiming unused memory and cleaning up objects that are no longer referenced. This helps prevent memory leaks and ensures efficient memory use.\n\n\n# How Python's Garbage Collection System Works:\n    # 1. Reference Counting\n    # 2. Cycle Detection (Generational Garbage Collection)\n\n# 1. Reference Counting\n    # Every object in Python has a reference count — the number of references pointing to it.\n    # When an object's reference count drops to zero, it means that the object is no longer needed, and Python immediately destroys it.\n\n# Example of Reference Counting:\nx = [1, 2, 3]\ny = x\ndel x\ndel y\n\n# 2. 2. Cycle Detection (Generational Garbage Collection)\n    # Reference counting alone can't handle circular references (objects that reference each other).\n    # Python’s garbage collector uses a cycle detection algorithm to identify and break circular references.\n    # Python organizes objects into three generations based on their lifespan:\n        # Generation 0: Short-lived objects (frequently collected)\n        # Generation 1: Medium-lived objects\n        # Generation 2: Long-lived objects (collected less frequently)\n\n# Example of Circular Reference:\nclass A:\n    def __init__(self):\n        self.ref = None\n\na = A()\nb = A()\n\na.ref = b\nb.ref = a\n\ndel a\ndel b\n\nimport gc\ngc.collect()\n\n# Good Practices for Managing Garbage Collection:\n    # Use del to delete objects when they are no longer needed.\n    # Use gc.collect() to manually trigger garbage collection (if necessary).\n    # Avoid creating circular references unless necessary.\n    # Use context managers (with statement) to manage file or resource cleanup.\n\n\n#  Example of Forcing Garbage Collection:\nimport gc\n\n# Show current garbage collection threshold\nprint(gc.get_threshold())\n\n# Force garbage collection\ngc.collect()",
      "metadata": {
        "trusted": true
      },
      "outputs": [],
      "execution_count": null
    },
    {
      "id": "2ea6eaa7-f52b-45a1-9e1a-81d75ad565a5",
      "cell_type": "code",
      "source": "# 16. What is the purpose of the else block in exception handling?\n    # In Python, the else block in exception handling is used to define a block of code that will execute only if no exceptions are raised in the try block.\n\n# Syntax:\ntry:\n    \nexcept ExceptionType:\n\nelse:\n\n# Purpose:\n    # The else block separates the error-handling logic (except) from the normal execution logic.\n    # It improves code readability by clearly distinguishing between code that handles exceptions and code that should only run when no exceptions occur.\n\n# Example:\ntry:\n    num = int(input(\"Enter a number: \"))\n    result = 10 / num\nexcept ValueError:\n    print(\"Invalid input! Please enter a number.\")\nexcept ZeroDivisionError:\n    print(\"Cannot divide by zero!\")\nelse:\n    print(\"Result:\", result)",
      "metadata": {
        "trusted": true
      },
      "outputs": [],
      "execution_count": null
    },
    {
      "id": "0d01a034-d055-4773-8412-074a584bfc57",
      "cell_type": "code",
      "source": "# 17. What are the common logging levels in Python?\n    # In Python's logging module, the common logging levels represent the severity of the events being logged. Here are the standard logging levels in increasing order of severity:\n        # 1. DEBUG (Numeric value: 10) – Used for detailed diagnostic information, helpful for debugging.\n        # 2. INFO (Numeric value: 20) – Used to confirm that the program is working as expected.\n        # 3. WARNING (Numeric value: 30) – Used to indicate that something unexpected happened or a potential issue that doesn’t prevent the program from running.\n        # 4. ERROR (Numeric value: 40) – Used when the program encounters an issue that prevents part of the code from running correctly.\n        # 5. CRITICAL (Numeric value: 50) – Used to record very serious issues that may cause the program to crash.\n\n# Example:\nimport logging\n\nlogging.basicConfig(level=logging.DEBUG)\n\nlogging.debug(\"This is a DEBUG message\")\nlogging.info(\"This is an INFO message\")\nlogging.warning(\"This is a WARNING message\")\nlogging.error(\"This is an ERROR message\")\nlogging.critical(\"This is a CRITICAL message\")",
      "metadata": {
        "trusted": true
      },
      "outputs": [],
      "execution_count": null
    },
    {
      "id": "6e645ee1-eb53-4c1c-8e71-ae2f09ff137a",
      "cell_type": "code",
      "source": "# 18. What is the difference between os.fork() and multiprocessing in Python?\n    # The main difference between os.fork() and the multiprocessing module in Python lies in how they create and manage new processes.\n\n# 1. os.fork()\n        # os.fork() is a low-level system call available only on Unix-based systems (like Linux and macOS).\n        # It creates a child process by duplicating the current process.\n        # After a fork, both the parent and child processes will execute the code following the fork call, but the return value helps distinguish between them:\n            # 1. It returns 0 in the child process.\n            # 2. It returns the child's process ID in the parent process.\n\n# Example using os.fork():\nimport os\n\npid = os.fork()\n\nif pid == 0:\n    print(\"This is the child process\")\nelse:\n    print(f\"This is the parent process. Child PID: {pid}\")\n\n# 2. multiprocessing Module\n        # multiprocessing is a higher-level Python module that works on both Unix and Windows.\n        # It provides an API for creating and managing processes.\n        # It creates a new process using the Process class, which runs the target function in a separate process.\n        # It offers better compatibility and control over process management than os.fork().\n\n# Example using multiprocessing:\nfrom multiprocessing import Process\n\ndef worker():\n    print(\"This is the child process\")\n\nif __name__ == \"__main__\":\n    p = Process(target=worker)\n    p.start()\n    p.join()\n    print(\"This is the parent process\")\n\n# Key Differences:\n        # os.fork() is Unix-specific, while multiprocessing works on both Unix and Windows.\n        # os.fork() is a low-level system call; multiprocessing is a high-level module that abstracts away complexity.\n        # multiprocessing allows better control over processes (like communication and synchronization), while os.fork() simply duplicates the current process.\n        # multiprocessing is more Pythonic and portable, while os.fork() is tied to Unix-based operating systems.",
      "metadata": {
        "trusted": true
      },
      "outputs": [],
      "execution_count": null
    },
    {
      "id": "3b4dd8d2-8e08-4d02-a09e-e32452487b29",
      "cell_type": "code",
      "source": "# 19. What is the importance of closing a file in Python?\n    # Closing a file in Python is important because it ensures that all the resources associated with the file are properly released and any buffered data is written to the file. Failing to close a file can lead to several issues, such as data loss, file corruption, and resource leaks.\n\n# Importance of closing a file:\n    # 1. Releases system resources – When a file is opened, it consumes system resources like memory and file descriptors. Closing the file ensures that these resources are released for other processes.\n    # 2. Flushes buffered data – When you write data to a file, Python may store it in a buffer rather than writing it immediately. Closing the file ensures that all buffered data is written to the file.\n    # 3. Prevents data corruption – If a file is not closed properly and the program crashes or ends unexpectedly, some data might not be saved, leading to corruption or loss.\n    # 4. Avoids reaching the file descriptor limit – If too many files are left open without closing, the system may hit a file descriptor limit, causing the program to fail when opening new files.\n    # 5. Ensures consistent file state – Closing a file ensures that any changes made to the file are saved, and the file is left in a stable state.\n\n# Example Without Closing (Potential Problem):\nfile = open('example.txt', 'w')\nfile.write(\"Hello, World!\")\n\n# Example With Proper Closing:\nfile = open('example.txt', 'w')\nfile.write(\"Hello, World!\")\nfile.close()\n\n# Using with Statement (Best Practice):\n    # The with statement automatically closes the file when the block finishes execution, even if an exception occurs.\n\nwith open('example.txt', 'w') as file:\n    file.write(\"Hello, World!\")",
      "metadata": {
        "trusted": true
      },
      "outputs": [],
      "execution_count": null
    },
    {
      "id": "44009427-3c28-4dac-bb76-647ab2a25d86",
      "cell_type": "code",
      "source": "# 20. What is the difference between file.read() and file.readline() in Python?\n    # The difference between file.read() and file.readline() in Python lies in how much data they read from a file and how they handle line breaks.\n\n\n# 1. file.read()\n    # file.read() reads the entire file (or a specified number of bytes) into a single string.\n    # If no argument is passed, it reads the entire file content at once.\n    # If an integer argument is passed, it reads that many characters (or bytes for binary files).\n\n# Example:\nwith open('example.txt', 'r') as file:\n    content = file.read()\n    print(content)\n\n# Reading a specific number of characters:\nwith open('example.txt', 'r') as file:\n    content = file.read(5)\n    print(content)\n\n# 2. file.readline()\n    # file.readline() reads a single line from the file.\n    # It returns the line as a string, including the newline character (\\n) at the end (if present).\n    # If the end of the file is reached, it returns an empty string ('').\n\n# Example:\n\nwith open('example.txt', 'r') as file:\n    line = file.readline()\n    print(line)\n\n# You can call readline() multiple times to read subsequent lines:\nwith open('example.txt', 'r') as file:\n    print(file.readline())\n    print(file.readline())\n\n# Key Differences:\n    # read() reads the entire file or a specified number of characters, while readline() reads only one line at a time.\n    # read() returns an empty string only when the entire file has been read; readline() returns an empty string when the end of the file is reached.\n    # read() is useful for reading large or small chunks of data; readline() is better for processing line-by-line input.\n\n# Use Cases:\n    # Use read() when you need to read the entire content or a fixed amount of data at once.\n    # Use readline() when you need to process data line by line or handle structured input.",
      "metadata": {
        "trusted": true
      },
      "outputs": [],
      "execution_count": null
    },
    {
      "id": "51cf315c-fffe-4c03-bbdd-bee2d343ed27",
      "cell_type": "code",
      "source": "# 21. What is the logging module in Python used for?\n    # The logging module in Python is used for tracking events that occur during the execution of a program. It allows you to record messages, debug information, warnings, and errors to different destinations (such as the console, files, or external services).\n\n# Purpose of the logging module:\n    # 1. Debugging – Helps identify and fix issues by recording detailed information about the program's execution.\n    # 2. Monitoring – Tracks the flow of execution and important events in a production environment.\n    # 3. Error Reporting – Captures error messages and stack traces to help diagnose issues.\n    # 4. Auditing – Keeps a record of system behavior, user actions, and program events for security and compliance.\n    # 5. Performance Tuning – Logs timing information and performance metrics to identify bottlenecks.\n\n# Example:\nimport logging\n\nlogging.basicConfig(level=logging.DEBUG)\n\nlogging.debug(\"This is a DEBUG message\")\nlogging.info(\"This is an INFO message\")\nlogging.warning(\"This is a WARNING message\")\nlogging.error(\"This is an ERROR message\")\nlogging.critical(\"This is a CRITICAL message\")\n\n# Common Logging Levels:\n    # DEBUG – Used for detailed debugging information.\n    # INFO – Used to confirm that things are working as expected.\n    # WARNING – Indicates a potential problem or unexpected situation.\n    # ERROR – Records an error that prevents part of the program from running.\n    # CRITICAL – Records a serious error that might cause the program to crash.\n\n# Advanced Configuration Example (Log to a File):\nimport logging\n\nlogging.basicConfig(filename='app.log', level=logging.DEBUG,\n                    format='%(asctime)s - %(levelname)s - %(message)s')\n\nlogging.info(\"This message will be logged to the file\")\n\n\n# Why Use logging Instead of print()?\n    # 1. print() is useful for temporary debugging but not for production-level logging.\n    # 2. logging allows setting different levels of importance (like INFO, ERROR, DEBUG) and directs messages to different outputs (console, file, etc.).\n    # 3. logging allows you to filter, format, and store logs for future reference.",
      "metadata": {
        "trusted": true
      },
      "outputs": [],
      "execution_count": null
    },
    {
      "id": "ae339f9e-30e0-41c1-b4b9-47c9b7e06a5f",
      "cell_type": "code",
      "source": "# 22. What is the os module in Python used for in file handling?\n    # The os module in Python provides functions for interacting with the operating system. In file handling, the os module is used to perform various tasks like creating, reading, writing, deleting, and managing files and directories at the operating system level.\n\n# Common uses of the os module in file handling:\n    # 1. Get Current Working Directory\n        # os.getcwd() returns the current working directory.\nimport os\nprint(os.getcwd())\n\n    # 2. Change the Current Working Directory\n        # os.chdir() changes the current working directory.\nos.chdir('/path/to/directory')\nprint(os.getcwd())\n\n    # 3. List Files and Directories\n        # os.listdir() lists the files and directories in the specified path.\nprint(os.listdir('.'))\n\n    # 4.Create a Directory\n        # os.mkdir() creates a new directory.\nos.mkdir('new_folder')\n\n    # 5. Create Directories Recursively\n        # os.makedirs() creates intermediate-level directories if they don't exist.\nos.makedirs('parent/child/grandchild')\n\n    # 6. Remove a File\n        # os.remove() deletes a file.\nos.remove('file.txt')\n\n    # 7. Remove an Empty Directory\n        # os.rmdir() removes an empty directory.\nos.rmdir('new_folder')\n\n    # 8. Remove a Directory Tree\n        # os.removedirs() removes intermediate directories if they are empty.\nos.removedirs('parent/child/grandchild')\n\n    # 9. Rename a File or Directory\n        # os.rename() renames a file or directory.\nos.rename('old_file.txt', 'new_file.txt')\n\n    # 10. Check if a Path Exists\n        # os.path.exists() checks if a file or directory exists.\nif os.path.exists('file.txt'):\n    print('File exists')\n\n    # 11. Check if a Path is a File or Directory\n        # os.path.isfile() – Checks if the path is a file.\n        # os.path.isdir() – Checks if the path is a directory.\n   \n    # 12. Get File Size\n        # os.path.getsize() returns the size of a file in bytes.\nsize = os.path.getsize('file.txt')\nprint(f\"Size: {size} bytes\")\n\n    # 13. Split File Path and Name\n        # os.path.split() splits the file path into a tuple (directory, file).\npath = '/path/to/file.txt'\nprint(os.path.split(path))  # Output: ('/path/to', 'file.txt')\n\n# Why Use os Module for File Handling:\n    # It provides platform-independent methods for file and directory manipulation.\n    # It allows low-level file operations that are not possible with high-level functions like open().\n    # It supports handling file paths, file permissions, and directory structures consistently across different operating systems.",
      "metadata": {
        "trusted": true
      },
      "outputs": [],
      "execution_count": null
    },
    {
      "id": "69ea0ed7-7be0-4fae-aea2-3e1f46998d4f",
      "cell_type": "code",
      "source": "# 23. What are the challenges associated with memory management in Python?\n    # Memory management in Python is handled automatically by the Python memory manager and the garbage collector. However, several challenges can arise when managing memory efficiently, especially in large or complex programs.\n\n# 1. Garbage Collection Overhead\n    # Python uses a combination of reference counting and cycle detection to manage memory.\n        # 1. Reference counting can cause performance overhead, as the interpreter constantly updates reference counts.\n        # 2. The cyclic garbage collector adds additional overhead when trying to detect and clean up circular references.\n\n# 2. Memory Leaks\n    # Memory leaks occur when objects are no longer needed but are not properly released due to lingering references.\n        # If objects reference each other (cyclic references), they may not be freed even if they are no longer accessible.\n        \n# Example:\nclass A:\n    def __init__(self):\n        self.ref = None\n\na = A()\nb = A()\na.ref = b\nb.ref = a\ndel a, b\n\n# 3. Fragmentation\n    # Frequent allocation and deallocation of memory can lead to fragmentation, where free memory is broken into non-contiguous blocks.\n        # This can increase memory usage and slow down memory access.\n        # Python’s memory allocator tries to minimize fragmentation but cannot eliminate it completely.\n\n# 4. Global Interpreter Lock (GIL)\n    # The GIL allows only one thread to execute Python bytecode at a time.\n        # This means that memory management operations, such as garbage collection and reference counting, are not truly parallelized.\n        # It limits the efficiency of multi-threading for CPU-bound tasks.\n\n# 5. Holding onto Unused Memory\n    # Python does not always return memory to the operating system after it’s freed.\n        # The memory may stay reserved for the Python process, leading to increased memory consumption.\n        # Long-running programs may accumulate memory that cannot be released back to the OS, causing high memory usage.\n\n# 6. Large Object Memory Overhead\n    # Python objects have overhead due to:\n        # Type information\n        # Reference counts\n        # Memory alignment\n        # This increases the memory footprint compared to low-level languages like C.\n# Example:\nimport sys\n\na = 1000\nprint(sys.getsizeof(a))\n\n# 7. Improper Data Structure Choice\n    # Using inefficient data structures can lead to high memory consumption.\n       \n# Example: Using a list when a set or tuple would be more memory-efficient.\ndata = list(range(1000000))\ndata = set(range(1000000))\n\n# 8. Excessive Use of Global Variables\n    # Global variables stay in memory for the lifetime of the program, increasing memory usage unnecessarily.\n        # Large objects stored as globals can prevent memory from being freed.\n\n#  Best Practices to Overcome These Challenges:\n    # Use weak references (weakref) to avoid cyclic references.\n    # Use del to manually delete large objects after use.\n    # Use data structures like array, set, and tuple where appropriate.\n    # Minimize the use of global variables.\n    # Monitor memory usage using libraries like tracemalloc and gc.\n    # Use multiprocessing instead of threading for CPU-bound tasks to bypass the GIL.",
      "metadata": {
        "trusted": true
      },
      "outputs": [],
      "execution_count": null
    },
    {
      "id": "be515ea2-9557-4f02-9fc3-7c47c69cac2d",
      "cell_type": "code",
      "source": "# 24. How do you raise an exception manually in Python?\n    # In Python, you can manually raise an exception using the raise keyword. This allows you to trigger an exception intentionally, which is useful for enforcing certain conditions or handling errors more explicitly.\n\n# Syntax:\nraise ExceptionType(\"Error message\")\n\n# ExceptionType – This is the type of exception you want to raise (e.g., ValueError, TypeError, KeyError, RuntimeError, etc.).\n# \"Error message\" – An optional custom error message that describes the reason for the exception.\n\n# 1. Raising a Built-in Exception\n    # You can raise any of Python’s built-in exceptions like ValueError, TypeError, or IndexError.\n\n# Example:\nx = -5\nif x < 0:\n    raise ValueError(\"Negative value is not allowed\")\n\n# 2. Raising a Custom Exception\n    # You can define your own exception class by inheriting from Python's Exception class.\n\n# Example:\nclass CustomError(Exception):\n    pass\n\ndef check_value(x):\n    if x < 0:\n        raise CustomError(\"Value cannot be negative\")\n\ntry:\n    check_value(-1)\nexcept CustomError as e:\n    print(f\"Caught custom exception: {e}\")\n\n# 3. Raising an Exception with from (Chaining Exceptions)\n    # You can chain exceptions using the from keyword to preserve the original exception context.\n\n# Example:\ntry:\n    x = int(\"abc\")\nexcept ValueError as e:\n    raise TypeError(\"Invalid type conversion\") from e\n\n# Best Practices:\n    # Use raise to create meaningful error messages for debugging and user feedback.\n    # Prefer raising specific exceptions (like ValueError, TypeError) instead of the generic Exception.\n    # When defining custom exceptions, inherit from Exception rather than BaseException.\n    # Use from to maintain context when chaining exceptions.",
      "metadata": {
        "trusted": true
      },
      "outputs": [],
      "execution_count": null
    },
    {
      "id": "0ff099b7-a6ac-4f45-8840-9563a60603b4",
      "cell_type": "code",
      "source": "# 25. Why is the important to use multithreading in certain application?\n    # Using multithreading is important in certain applications because it allows a program to execute multiple tasks concurrently within the same process. This can lead to improved performance, better responsiveness, and more efficient use of system resources, especially for I/O-bound tasks.\n\n# Why Multithreading is Important:\n\n# 1. Concurrency and Parallelism\n    # Multithreading allows a program to execute multiple tasks simultaneously.\n    # For example, a web server can handle multiple client requests at the same time using threads.\n\n# 2. Better Responsiveness\n    # Multithreading makes applications more responsive by handling background tasks without blocking the main thread.\n    # Example: In a GUI application, multithreading allows the user interface to remain responsive while processing data in the background.\n\n# 3. Efficient Use of System Resources\n    # Multithreading allows better CPU utilization by keeping the CPU busy while waiting for I/O operations to complete.\n    # It reduces idle time and makes better use of available CPU cores.\n\n# 4. Faster Execution for I/O-bound Tasks\n    # I/O-bound tasks (like reading/writing files or network requests) spend a lot of time waiting.\n    # Threads can switch to other tasks while waiting, improving overall throughput.\n    # Example: Downloading multiple files simultaneously using threads.\n\n# 5. Cost-Effective Scaling\n    # Instead of creating separate processes (which are more resource-heavy), multiple threads can share memory and resources within a single process.\n    # Threads have lower overhead than processes in terms of memory and context switching.\n\n# Example of Multithreading (Downloading Files):\nimport threading\nimport time\n\ndef download_file(file_name):\n    print(f\"Starting download: {file_name}\")\n    time.sleep(2)\n    print(f\"Finished download: {file_name}\")\n\nt1 = threading.Thread(target=download_file, args=(\"file1.txt\",))\nt2 = threading.Thread(target=download_file, args=(\"file2.txt\",))\n\nt1.start()\nt2.start()\n\nt1.join()\nt2.join()\n\nprint(\"All downloads complete\")\n\n# When Multithreading is Most Effective:\n    # I/O-bound tasks – Reading/writing files, network requests, database queries.\n    # User interface – Keeping a GUI responsive while performing background tasks.\n    # Web scraping – Collecting data from multiple web pages simultaneously.\n    # Data processing – Handling large datasets where I/O is the bottleneck.\n\n# When Multithreading is NOT Effective:\n    # CPU-bound tasks – Tasks involving heavy computation (e.g., matrix multiplication) are limited by Python’s Global Interpreter Lock (GIL), which allows only one thread to execute Python bytecode at a time. For CPU-bound tasks, use multiprocessing instead of multithreading.",
      "metadata": {
        "trusted": true
      },
      "outputs": [],
      "execution_count": null
    },
    {
      "id": "5720e174-2c0d-490a-bb6b-35c3b9b0b0e5",
      "cell_type": "markdown",
      "source": "# Practical Questions",
      "metadata": {}
    },
    {
      "id": "7c9c15ea-9325-4121-a9c7-f1fc61f6f769",
      "cell_type": "code",
      "source": "# 1. How can you open a file for writing in Python and write a string to it?\n\nfile = open('example.txt', 'w')\n\nfile.write('Hello, World!')\n\nfile.close()",
      "metadata": {
        "trusted": true
      },
      "outputs": [],
      "execution_count": null
    },
    {
      "id": "5593c219-65fe-47ee-a004-feee4e4e03cc",
      "cell_type": "code",
      "source": "# 2. Write a Python program to read the contents of a file and print each line.\n\nwith open('example.txt', 'r') as file:\n    for line in file:\n        print(line.strip())",
      "metadata": {
        "trusted": true
      },
      "outputs": [],
      "execution_count": null
    },
    {
      "id": "abbdc866-8864-4bf5-a71d-b80573dc604a",
      "cell_type": "code",
      "source": "# 3. How would you handle a case where the file does't exist while trying to open it for reading?\ntry:\n    with open('example.txt', 'r') as file:\n        content = file.read()\n        print(content)\nexcept FileNotFoundError:\n    print(\"Error: The file does not exist.\")\nexcept PermissionError:\n    print(\"Error: You don't have permission to read this file.\")\nexcept Exception as e:\n    print(f\"An unexpected error occurred: {e}\")",
      "metadata": {
        "trusted": true
      },
      "outputs": [],
      "execution_count": null
    },
    {
      "id": "898c637d-71d0-4a17-92fd-12c64e7fcc33",
      "cell_type": "code",
      "source": "# 4. Write a Python script that reads from one file and writes its content to another file.\n\ntry:\n    with open('source.txt', 'r') as source_file:\n        content = source_file.read()\n    \n    with open('destination.txt', 'w') as destination_file:\n        destination_file.write(content)\n        \n    print(\"File copied successfully.\")\nexcept FileNotFoundError:\n    print(\"Error: Source file does not exist.\")\nexcept IOError as e:\n    print(f\"An I/O error occurred: {e}\")",
      "metadata": {
        "trusted": true
      },
      "outputs": [],
      "execution_count": null
    },
    {
      "id": "250c7a68-c383-40c7-97cc-7ed1f2b37f88",
      "cell_type": "code",
      "source": "# 5. How would you catch and handle division by zero error in Python?\ntry:\n    x = int(input(\"Enter numerator: \"))\n    y = int(input(\"Enter denominator: \"))\n    result = x / y\n    print(f\"Result: {result}\")\nexcept ZeroDivisionError:\n    print(\"Error: Division by zero is not allowed.\")\nexcept ValueError:\n    print(\"Error: Invalid input. Please enter numeric values.\")\nexcept Exception as e:\n    print(f\"An unexpected error occurred: {e}\")",
      "metadata": {
        "trusted": true
      },
      "outputs": [],
      "execution_count": null
    },
    {
      "id": "c3c7e6fb-f0ad-4be8-8158-926babcf27b7",
      "cell_type": "code",
      "source": "# 6. Write a Python program that logs an error message to a log file when a division by zero exception occurs.\ndef divide():\n    try:\n        x = int(input(\"Enter numerator: \"))\n        y = int(input(\"Enter denominator: \"))\n        result = x / y\n        print(f\"Result: {result}\")\n    except ZeroDivisionError:\n        logging.error(\"Division by zero attempted.\")\n        print(\"Error: Division by zero is not allowed.\")\n    except ValueError:\n        logging.error(\"Invalid input - non-numeric value entered.\")\n        print(\"Error: Invalid input. Please enter numeric values.\")\n    except Exception as e:\n        logging.error(f\"Unexpected error: {e}\")\n        print(f\"An unexpected error occurred: {e}\")\n\ndivide()",
      "metadata": {
        "trusted": true
      },
      "outputs": [],
      "execution_count": null
    },
    {
      "id": "703da624-2cb3-4492-8fc8-fcd400d68d37",
      "cell_type": "code",
      "source": "# 7. How do you log information at different levels (INFO, ERROR, WARNING) in Python using the logging module?\n\nimport logging\n\nlogging.basicConfig(\n    filename='app.log',\n    level=logging.DEBUG,\n    format='%(asctime)s - %(levelname)s - %(message)s'\n)\n\nlogging.debug(\"This is a DEBUG message\")\nlogging.info(\"This is an INFO message\")\nlogging.warning(\"This is a WARNING message\")\nlogging.error(\"This is an ERROR message\")\nlogging.critical(\"This is a CRITICAL message\")",
      "metadata": {
        "trusted": true
      },
      "outputs": [],
      "execution_count": null
    },
    {
      "id": "6daddfcc-f05e-4eea-ae12-4c3ce9a55f41",
      "cell_type": "code",
      "source": "# 8. Write a program to handle a file opening error using exception handling.\n\ntry:\n    with open('non_existent_file.txt', 'r') as file:\n        content = file.read()\n        print(content)\nexcept FileNotFoundError:\n    print(\"Error: The file does not exist.\")\nexcept PermissionError:\n    print(\"Error: You don't have permission to open this file.\")\nexcept Exception as e:\n    print(f\"An unexpected error occurred: {e}\")\n",
      "metadata": {
        "trusted": true
      },
      "outputs": [],
      "execution_count": null
    },
    {
      "id": "248a2790-d865-4e09-97c6-c1a6347feb6c",
      "cell_type": "code",
      "source": "# 9. How can you read a file line by line and store its content in a list in Python?\n\nwith open('example.txt', 'r') as file:\n    lines = file.readlines()\n\nlines = [line.strip() for line in lines]\n\nprint(lines)\n",
      "metadata": {
        "trusted": true
      },
      "outputs": [],
      "execution_count": null
    },
    {
      "id": "58b87c43-a3cc-4f7f-9243-b46beb109add",
      "cell_type": "code",
      "source": "# 10. How can you append data to an existing file in Python?\n\ntry:\n    with open('example.txt', 'a') as file:\n        file.write('\\nNew appended line.')\n    print(\"Data appended successfully.\")\nexcept PermissionError:\n    print(\"Error: No permission to write to the file.\")\nexcept Exception as e:\n    print(f\"An error occurred: {e}\")",
      "metadata": {
        "trusted": true
      },
      "outputs": [],
      "execution_count": null
    },
    {
      "id": "2a4e4727-0b9a-4c16-8754-ce720dc747d9",
      "cell_type": "code",
      "source": "# 11. Write a Python program that uses a try-except block to handle an error when attempting to access a dictionary key that does't exist.\n\ndata = {'name': 'John', 'age': 30, 'city': 'New York'}\n\ntry:\n    value = data['country']\n    print(f\"Value: {value}\")\nexcept KeyError:\n    print(\"Error: Key not found in the dictionary.\")\n",
      "metadata": {
        "trusted": true
      },
      "outputs": [],
      "execution_count": null
    },
    {
      "id": "52627561-c9fc-4086-a79c-3c4fdf97c001",
      "cell_type": "code",
      "source": "# 12. Write a program that demonstrates using multiple except blocks to handle different types of exceptions.\n\ntry:\n    x = int(input(\"Enter a number: \"))\n    y = int(input(\"Enter another number: \"))\n    \n    result = x / y\n\n    numbers = [1, 2, 3]\n    print(numbers[5])\n\nexcept ValueError:\n    print(\"Error: Invalid input. Please enter a numeric value.\")\n\nexcept ZeroDivisionError:\n    print(\"Error: Division by zero is not allowed.\")\n\nexcept IndexError:\n    print(\"Error: List index is out of range.\")\n\nexcept Exception as e:\n    print(f\"An unexpected error occurred: {e}\")",
      "metadata": {
        "trusted": true
      },
      "outputs": [],
      "execution_count": null
    },
    {
      "id": "7dcdd943-eff2-4af5-a08e-f6aeadbccbf5",
      "cell_type": "code",
      "source": "# 13. How would you check if a file exists before attempting to read it in Python?\n\nimport os\n\nfile_path = 'example.txt'\n\nif os.path.exists(file_path):\n    with open(file_path, 'r') as file:\n        content = file.read()\n        print(\"File contents:\\n\", content)\nelse:\n    print(f\"The file '{file_path}' does not exist.\")",
      "metadata": {
        "trusted": true
      },
      "outputs": [],
      "execution_count": null
    },
    {
      "id": "1793a496-e86d-4943-80c3-dec88e2a7941",
      "cell_type": "code",
      "source": "# 14. Write a program that uses the logging module to log both information and error messages.\n\nimport logging\n\nlogging.basicConfig(filename='app.log', level=logging.DEBUG,\n                    format='%(asctime)s - %(levelname)s - %(message)s')\n\nlogging.info('Program started')\n\ntry:\n    result = 10 / 0\nexcept ZeroDivisionError as e:\n    logging.error(f'An error occurred: {e}')\n\nlogging.info('Program finished')",
      "metadata": {
        "trusted": true
      },
      "outputs": [],
      "execution_count": null
    },
    {
      "id": "4db2b5bf-b9b6-46d0-9e12-4d5c431f42a4",
      "cell_type": "code",
      "source": "# 15. Write a Python program that prints the content of a file and handles the case when the file is empty.\n\nfile_path = 'example.txt'\n\ntry:\n    with open(file_path, 'r') as file:\n        content = file.read()\n        if content.strip():\n            print(\"File contents:\\n\", content)\n        else:\n            print(f\"The file '{file_path}' is empty.\")\nexcept FileNotFoundError:\n    print(f\"The file '{file_path}' does not exist.\")\nexcept Exception as e:\n    print(f\"An error occurred: {e}\")\n",
      "metadata": {
        "trusted": true
      },
      "outputs": [],
      "execution_count": null
    },
    {
      "id": "266c86eb-62be-4ab9-aac3-8e6a77ffe5f1",
      "cell_type": "code",
      "source": "# 16. Demostrate how to use memory profiling to check the memory usage of a smalll program.\n\nfrom memory_profiler import profile\n\n@profile\ndef calculate_squares():\n    squares = [i ** 2 for i in range(1000000)]\n    return squares\n\n@profile\ndef calculate_sum():\n    total = sum([i ** 2 for i in range(1000000)])\n    return total\n\nif __name__ == \"__main__\":\n    calculate_squares()\n    calculate_sum()\n",
      "metadata": {
        "trusted": true
      },
      "outputs": [],
      "execution_count": null
    },
    {
      "id": "780c48b6-6894-40db-842c-08784765d041",
      "cell_type": "code",
      "source": "# 17. Write a Python program to create and write a list of number to a file, one number per line.\n\nfile_path = 'numbers.txt'\n\nnumbers = list(range(1, 21))\n\nwith open(file_path, 'w') as file:\n    for number in numbers:\n        file.write(f\"{number}\\n\")\n\nprint(f\"Numbers written to '{file_path}' successfully.\")",
      "metadata": {
        "trusted": true
      },
      "outputs": [],
      "execution_count": null
    },
    {
      "id": "442dbae3-9b17-4b62-8b5d-00d1f1734e00",
      "cell_type": "code",
      "source": "# 18. How would you implement a basic logging setup that logs to a file with rotation after 1MB?\n\nimport logging\nfrom logging.handlers import RotatingFileHandler\n\nlog_file = 'app.log'\nmax_size = 1 * 1024 * 1024  # 1MB\nbackup_count = 3\n\nhandler = RotatingFileHandler(log_file, maxBytes=max_size, backupCount=backup_count)\nhandler.setLevel(logging.DEBUG)\n\nformatter = logging.Formatter('%(asctime)s - %(levelname)s - %(message)s')\nhandler.setFormatter(formatter)\n\nlogger = logging.getLogger(__name__)\nlogger.setLevel(logging.DEBUG)\nlogger.addHandler(handler)\n\nlogger.info('Application started')\nfor i in range(10000):\n    logger.debug(f'Log entry {i}')\n\nlogger.info('Application finished')\n",
      "metadata": {
        "trusted": true
      },
      "outputs": [],
      "execution_count": null
    },
    {
      "id": "bd26b44f-0374-4b39-820b-ba5d9bc7793c",
      "cell_type": "code",
      "source": "# 19. Write a program that handles both IndexError and KeyError using a try-except block.\n\nmy_list = [1, 2, 3]\nmy_dict = {'a': 10, 'b': 20}\n\ntry:\n    print(my_list[5])  \nexcept IndexError as e:\n    print(f\"IndexError occurred: {e}\")\n\ntry:\n    print(my_dict['c'])\nexcept KeyError as e:\n    print(f\"KeyError occurred: {e}\")\n",
      "metadata": {
        "trusted": true
      },
      "outputs": [],
      "execution_count": null
    },
    {
      "id": "061913ac-1873-43c7-ae24-06a152178874",
      "cell_type": "code",
      "source": "# 20. How would you open a file and read its contents using a context manager in Python?\n\nfile_path = 'example.txt'\n\ntry:\n    with open(file_path, 'r') as file:\n        content = file.read()\n        print(\"File contents:\\n\", content)\nexcept FileNotFoundError:\n    print(f\"The file '{file_path}' does not exist.\")\nexcept Exception as e:\n    print(f\"An error occurred: {e}\")\n",
      "metadata": {
        "trusted": true
      },
      "outputs": [],
      "execution_count": null
    },
    {
      "id": "c62a6917-db84-497f-8e58-b7624975a046",
      "cell_type": "code",
      "source": "# 21. How can you check if a file is empty before attempting to read its contents?\n\nimport os\n\nfile_path = 'example.txt'\n\nif os.path.exists(file_path):\n    if os.path.getsize(file_path) > 0:\n        with open(file_path, 'r') as file:\n            content = file.read()\n            print(\"File contents:\\n\", content)\n    else:\n        print(f\"The file '{file_path}' is empty.\")\nelse:\n    print(f\"The file '{file_path}' does not exist.\")\n",
      "metadata": {
        "trusted": true
      },
      "outputs": [],
      "execution_count": null
    },
    {
      "id": "86333900-3646-4ba3-bfc8-5517838b01d0",
      "cell_type": "code",
      "source": "# 22. How can you check if a file is empty before attempting to reaad its contents?\n\nimport os\n\nfile_path = 'example.txt'\n\nif os.path.exists(file_path):\n    if os.path.getsize(file_path) > 0:\n        with open(file_path, 'r') as file:\n            content = file.read()\n            print(\"File contents:\\n\", content)\n    else:\n        print(f\"The file '{file_path}' is empty.\")\nelse:\n    print(f\"The file '{file_path}' does not exist.\")\n",
      "metadata": {
        "trusted": true
      },
      "outputs": [],
      "execution_count": null
    },
    {
      "id": "1c7978b6-5aaa-49a6-b9d0-fbff96175357",
      "cell_type": "code",
      "source": "# 23. Write a Python program that writes to a log file when an error occur during file handling.\n\nimport logging\n\nlogging.basicConfig(filename='file_handling.log', level=logging.ERROR,\n                    format='%(asctime)s - %(levelname)s - %(message)s')\n\nfile_path = 'example.txt'\n\ntry:\n    with open(file_path, 'r') as file:\n        content = file.read()\n        print(\"File contents:\\n\", content)\nexcept FileNotFoundError as e:\n    logging.error(f\"FileNotFoundError: {e}\")\n    print(f\"Error: The file '{file_path}' does not exist.\")\nexcept PermissionError as e:\n    logging.error(f\"PermissionError: {e}\")\n    print\n",
      "metadata": {
        "trusted": true
      },
      "outputs": [],
      "execution_count": null
    }
  ]
}